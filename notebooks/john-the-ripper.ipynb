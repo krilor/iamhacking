{
 "metadata": {
  "language_info": {
   "codemirror_mode": {
    "name": "ipython",
    "version": 3
   },
   "file_extension": ".py",
   "mimetype": "text/x-python",
   "name": "python",
   "nbconvert_exporter": "python",
   "pygments_lexer": "ipython3",
   "version": "3.6.9-final"
  },
  "orig_nbformat": 2,
  "kernelspec": {
   "name": "bash",
   "display_name": "Bash"
  }
 },
 "nbformat": 4,
 "nbformat_minor": 2,
 "cells": [
  {
   "cell_type": "markdown",
   "metadata": {},
   "source": [
    "---\n",
    "\n",
    "title: \"Taking John The Ripper for a spin\"\n",
    "date: 2020-07-24T21:40:00+02:00\n",
    "tags: [\"johntheripper\", \"password\", \"cracking\"]\n",
    "draft: false\n",
    "\n",
    "---"
   ]
  },
  {
   "cell_type": "markdown",
   "metadata": {},
   "source": [
    "It is time time to give [John The Ripper](https://www.openwall.com/john/) as spin (further referred to as simpy \"John\"). It is a open-source password cracker similar to hashcat from the previous post.\n",
    "\n",
    "First, we need to install it. There are three versions to choose from.\n",
    "\n",
    "* *PRO* - distributed primarily in the form of \"native\" packages for the target operating systems and in general is meant to be easier to install. Not free.\n",
    "* *Jumbo* - community-enhanced version of core. Free\n",
    "* *Core* - core John. Free\n",
    "\n",
    "I will be installing the \"Jumbo\" version. The source repo is [magnumripper/JohnTheRipper](https://github.com/magnumripper/JohnTheRipper). It can easily be done through the [snap package](https://github.com/magnumripper/JohnTheRipper/issues/2118). I have set up \"john\" as an alias for \"john-the-ripper\".\n"
   ]
  },
  {
   "cell_type": "code",
   "execution_count": 11,
   "metadata": {
    "tags": []
   },
   "outputs": [
    {
     "output_type": "stream",
     "name": "stdout",
     "text": "John the Ripper 1.9.0-jumbo-1 OMP [linux-gnu 64-bit x86_64 AVX2 AC]\nCopyright (c) 1996-2019 by Solar Designer and others\nHomepage: http://www.openwall.com/john/\n\nUsage: john [OPTIONS] [PASSWORD-FILES]\n--single[=SECTION[,..]]    \"single crack\" mode, using default or named rules\n--single=:rule[,..]        same, using \"immediate\" rule(s)\n--wordlist[=FILE] --stdin  wordlist mode, read words from FILE or stdin\n                  --pipe   like --stdin, but bulk reads, and allows rules\n--loopback[=FILE]          like --wordlist, but extract words from a .pot file\n--dupe-suppression         suppress all dupes in wordlist (and force preload)\n--prince[=FILE]            PRINCE mode, read words from FILE\n--encoding=NAME            input encoding (eg. UTF-8, ISO-8859-1). See also\n                           doc/ENCODINGS and --list=hidden-options.\n--rules[=SECTION[,..]]     enable word mangling rules (for wordlist or PRINCE\n                           modes), using default or named rules\n--rules=:rule[;..]]        same, using \"immediate\" rule(s)\n--rules-stack=SECTION[,..] stacked rules, applied after regular rules or to\n                           modes that otherwise don't support rules\n--rules-stack=:rule[;..]   same, using \"immediate\" rule(s)\n--incremental[=MODE]       \"incremental\" mode [using section MODE]\n--mask[=MASK]              mask mode using MASK (or default from john.conf)\n--markov[=OPTIONS]         \"Markov\" mode (see doc/MARKOV)\n--external=MODE            external mode or word filter\n--regex=REGEXPR            regular expression mode (see doc/README.librexgen)\n--subsets[=CHARSET]        \"subsets\" mode (see doc/SUBSETS)\n--stdout[=LENGTH]          just output candidate passwords [cut at LENGTH]\n--restore[=NAME]           restore an interrupted session [called NAME]\n--session=NAME             give a new session the NAME\n--status[=NAME]            print status of a session [called NAME]\n--make-charset=FILE        make a charset file. It will be overwritten\n--show[=left]              show cracked passwords [if =left, then uncracked]\n--test[=TIME]              run tests and benchmarks for TIME seconds each\n--users=[-]LOGIN|UID[,..]  [do not] load this (these) user(s) only\n--groups=[-]GID[,..]       load users [not] of this (these) group(s) only\n--shells=[-]SHELL[,..]     load users with[out] this (these) shell(s) only\n--salts=[-]COUNT[:MAX]     load salts with[out] COUNT [to MAX] hashes\n--costs=[-]C[:M][,...]     load salts with[out] cost value Cn [to Mn]. For\n                           tunable cost parameters, see doc/OPTIONS\n--save-memory=LEVEL        enable memory saving, at LEVEL 1..3\n--node=MIN[-MAX]/TOTAL     this node's number range out of TOTAL count\n--fork=N                   fork N processes\n--pot=NAME                 pot file to use\n--list=WHAT                list capabilities, see --list=help or doc/OPTIONS\n--format=NAME              force hash of type NAME. The supported formats can\n                           be seen with --list=formats and --list=subformats\n\n"
    }
   ],
   "source": [
    "john"
   ]
  },
  {
   "cell_type": "markdown",
   "metadata": {},
   "source": [
    "## Testing\n",
    "\n",
    "As allways, I will be testing with the MD5 hash from previous posts.\n"
   ]
  },
  {
   "cell_type": "code",
   "execution_count": 27,
   "metadata": {
    "tags": []
   },
   "outputs": [
    {
     "output_type": "stream",
     "name": "stdout",
     "text": "81dc9bdb52d04dc20036dbd8313ed055\n"
    }
   ],
   "source": [
    "# move to hom edir\n",
    "cd ~\n",
    "# create dir and move into it\n",
    "mkdir -p john_test\n",
    "cd john_test\n",
    "# create and display file with hash\n",
    "echo -n \"1234\" | md5sum | awk '{ print $1 }'> 1234.hash\n",
    "cat 1234.hash"
   ]
  },
  {
   "cell_type": "code",
   "execution_count": 5,
   "metadata": {
    "tags": []
   },
   "outputs": [
    {
     "output_type": "stream",
     "name": "stdout",
     "text": "Using default input encoding: UTF-8\nLoaded 1 password hash (Raw-MD5 [MD5 256/256 AVX2 8x3])\nWarning: no OpenMP support for this hash type, consider --fork=8\nProceeding with single, rules:Single\nPress 'q' or Ctrl-C to abort, almost any other key for status\nAlmost done: Processing the remaining buffered candidate passwords, if any.\nProceeding with wordlist:/snap/john-the-ripper/current/run/password.lst, rules:Wordlist\n1234             (?\u001b[0m)\n1g 0:00:00:00 DONE 2/3 (2020-07-24 21:31) 100.0g/s 38400p/s 38400c/s 38400C/s 123456..larry\nUse the \"--show --format=Raw-MD5\" options to display all of the cracked passwords reliably\nSession completed\n"
    }
   ],
   "source": [
    "cd ~\n",
    "john --format=raw-md5 john_test/1234.hash"
   ]
  },
  {
   "cell_type": "markdown",
   "metadata": {},
   "source": [
    "The result is the same. John cracket it using its pre-made wordlist.\n",
    "I could also create a new wordlist for it to use and pipe it into stdin."
   ]
  },
  {
   "cell_type": "code",
   "execution_count": 12,
   "metadata": {
    "tags": []
   },
   "outputs": [
    {
     "output_type": "stream",
     "name": "stdout",
     "text": "Using default input encoding: UTF-8\nLoaded 1 password hash (Raw-MD5 [MD5 256/256 AVX2 8x3])\nWarning: no OpenMP support for this hash type\nPress Ctrl-C to abort, or send SIGUSR1 to john process for status\n1234             (?\u001b[0m)\n1g 0:00:00:00  100.0g/s 153600p/s 153600c/s 153600C/s 1152..1535\nUse the \"--show --format=Raw-MD5\" options to display all of the cracked passwords reliably\nSession completed\n"
    }
   ],
   "source": [
    "seq -f \"%04g\" 0 9999 | john --stdin --pot=john_test/john.pot --format=raw-md5 john_test/1234.hash"
   ]
  },
  {
   "cell_type": "markdown",
   "metadata": {},
   "source": [
    "## I like it\n",
    "\n",
    "John worked great, but as with hashcat, there are a lot of options that I need to look into. Will definately use John again."
   ]
  }
 ]
}
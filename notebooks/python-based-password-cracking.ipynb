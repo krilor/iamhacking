{
 "cells": [
  {
   "cell_type": "markdown",
   "metadata": {},
   "source": [
    "---\n",
    "\n",
    "title: \"Using python to crack a (known) password hash\"\n",
    "date: 2020-07-20T10:56:24+02:00\n",
    "tags: [\"python\", \"cracking\", \"passwords\"]\n",
    "draft: false\n",
    "\n",
    "---"
   ]
  },
  {
   "cell_type": "markdown",
   "metadata": {},
   "source": [
    "It probably makes sense to crack passwords using tools such as hashcat, john the ripper or findmyhash, but today I'm gonna have a stab at brute-forcing a hash using python.\n",
    "\n",
    "To start out, I made a md5 hash on the command line\n",
    "\n",
    "```bash\n",
    "\n",
    "echo -n \"1234\" | md5sum\n",
    "\n",
    "```\n",
    "\n",
    "The password is *1234* The resulting hash is: *81dc9bdb52d04dc20036dbd8313ed055*.\n",
    "\n",
    "**NOTE: md5 is not a hasing algorithm that should be used to hash passwords - use bcrypt or Argon2 or at the very least a shaN with salt and a lot of iteration. I've selected it today because it is fast and easy to work with when exploring this idea.**\n",
    "\n",
    "## Cracking the hash\n"
   ]
  },
  {
   "cell_type": "code",
   "execution_count": 9,
   "metadata": {},
   "outputs": [
    {
     "name": "stdout",
     "output_type": "stream",
     "text": [
      "At 0\n",
      "At 100\n",
      "At 200\n",
      "At 300\n",
      "At 400\n",
      "At 500\n",
      "At 600\n",
      "At 700\n",
      "At 800\n",
      "At 900\n",
      "At 1000\n",
      "At 1100\n",
      "At 1200\n",
      "Found it - password is '1234'\n"
     ]
    }
   ],
   "source": [
    "import hashlib\n",
    "\n",
    "hash = \"81dc9bdb52d04dc20036dbd8313ed055\"\n",
    "\n",
    "for i in range(9999):\n",
    "    if i % 100 == 0:\n",
    "        print(\"At %d\" % i)\n",
    "    \n",
    "    generated = hashlib.md5(b'%d' % i).hexdigest()\n",
    "    \n",
    "    if generated == hash:\n",
    "        print( \"Found it - password is '%d'\" % i)\n",
    "        break\n",
    "    "
   ]
  },
  {
   "cell_type": "markdown",
   "metadata": {},
   "source": [
    "The above example shows a simple way to bruteforce the hash. It is as simple as it can be, just iterating over a integers from 0 and upwards.\n",
    "\n",
    "Ofcourse, if this was a \"proper\" hash where we did not know the hashed value, then we would have to include all kinds of other characters.\n",
    "\n",
    "## Next up\n",
    "\n",
    "Next up, I will look into hashcat, john the ripper, findmyhash etc."
   ]
  }
 ],
 "metadata": {
  "kernelspec": {
   "display_name": "Python 3",
   "language": "python",
   "name": "python3"
  },
  "language_info": {
   "codemirror_mode": {
    "name": "ipython",
    "version": 3
   },
   "file_extension": ".py",
   "mimetype": "text/x-python",
   "name": "python",
   "nbconvert_exporter": "python",
   "pygments_lexer": "ipython3",
   "version": "3.6.9"
  }
 },
 "nbformat": 4,
 "nbformat_minor": 4
}

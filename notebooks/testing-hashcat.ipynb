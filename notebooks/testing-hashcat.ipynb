{
 "metadata": {
  "language_info": {
   "codemirror_mode": {
    "name": "ipython",
    "version": 3
   },
   "file_extension": ".py",
   "mimetype": "text/x-python",
   "name": "python",
   "nbconvert_exporter": "python",
   "pygments_lexer": "ipython3",
   "version": "3.6.9-final"
  },
  "orig_nbformat": 2,
  "kernelspec": {
   "name": "bash",
   "display_name": "Bash"
  }
 },
 "nbformat": 4,
 "nbformat_minor": 2,
 "cells": [
  {
   "cell_type": "code",
   "execution_count": null,
   "metadata": {},
   "outputs": [],
   "source": [
    "---\n",
    "\n",
    "title: \"Testing hashcat\"\n",
    "date: 2020-07-21T21:30:00+02:00\n",
    "tags: [\"hashcat\", \"cracking\"]\n",
    "draft: false\n",
    "\n",
    "---"
   ]
  },
  {
   "cell_type": "markdown",
   "metadata": {},
   "source": [
    "So, this time around I will give hashcat a spin.\n",
    "\n",
    "Had a bit of trouble getting started. The install was easy enough, just download, unarchive and put a symlink in path, but installing required OpenCL took me a while. Or, actually, just figuring out what the heck I had to install was the hard part.\n",
    "\n",
    "I'm on a ThinkPad X1 with integrated Intel grahics, so I had to install [OpenCL Runtimes for Intel Processors](https://software.intel.com/content/www/us/en/develop/articles/opencl-drivers.html). I first installed the CPU runtime, then the graphics one. Used [this askubuntu answer](https://askubuntu.com/a/1134762) as guidance.\n",
    "\n",
    "## Device trouble\n",
    "\n",
    "After installing the runtimes, the I get an error message about unstable driver. Must investigate that if I am to use hashcat more. This forces me to use `-D 1` flag (CPU devices).\n"
   ]
  },
  {
   "cell_type": "code",
   "execution_count": 3,
   "metadata": {
    "tags": []
   },
   "outputs": [
    {
     "output_type": "stream",
     "name": "stdout",
     "text": "hashcat (v6.0.0) starting...\n\n\u001b[31m* Device #1: Unstable OpenCL driver detected!\u001b[0m\n\nOpenCL Info:\n============\n\nOpenCL Platform ID #1\n  Vendor..: Intel(R) Corporation\n  Name....: Intel(R) OpenCL HD Graphics\n  Version.: OpenCL 2.1 \n\n  Backend Device ID #1\n    Type...........: GPU\n    Vendor.ID......: 8\n    Vendor.........: Intel(R) Corporation\n    Name...........: Intel(R) Gen9 HD Graphics NEO\n    Version........: OpenCL 2.1 NEO \n    Processor(s)...: 24\n    Clock..........: 1100\n    Memory.Total...: 12608 MB (limited to 4095 MB allocatable in one block)\n    Memory.Free....: 12544 MB\n    OpenCL.Version.: OpenCL C 2.0 \n    Driver.Version.: 20.28.17293\n\nOpenCL Platform ID #2\n  Vendor..: Intel(R) Corporation\n  Name....: Intel(R) CPU Runtime for OpenCL(TM) Applications\n  Version.: OpenCL 2.1 LINUX\n\n  Backend Device ID #2\n    Type...........: CPU\n    Vendor.ID......: 8\n    Vendor.........: Intel(R) Corporation\n    Name...........: Intel(R) Core(TM) i5-8350U CPU @ 1.70GHz\n    Version........: OpenCL 2.1 (Build 0)\n    Processor(s)...: 8\n    Clock..........: 1700\n    Memory.Total...: 15760 MB (limited to 3940 MB allocatable in one block)\n    Memory.Free....: 15696 MB\n    OpenCL.Version.: OpenCL C 2.0 \n    Driver.Version.: 18.1.0.0920\n\n"
    }
   ],
   "source": [
    "hashcat -I"
   ]
  },
  {
   "cell_type": "markdown",
   "metadata": {},
   "source": [
    "## Testing\n",
    "\n",
    "Still testing on the same hash as previous posts. It does the trick.\n",
    "\n",
    "* -a 3 = brute force\n",
    "* -m 0 = MD5\n",
    "* -D 1 = CPU\n",
    "* ?d?d?d?d = brute force mask (4 digits)"
   ]
  },
  {
   "cell_type": "code",
   "execution_count": 11,
   "metadata": {
    "tags": []
   },
   "outputs": [
    {
     "output_type": "stream",
     "name": "stdout",
     "text": "hashcat (v6.0.0) starting...\n\n\u001b[31m* Device #1: Unstable OpenCL driver detected!\u001b[0m\n\n\u001b[33mThis OpenCL driver has been marked as likely to fail kernel compilation or to produce false negatives.\u001b[0m\n\u001b[33mYou can use --force to override this, but do not report related errors.\u001b[0m\n\u001b[33m\u001b[0m\nOpenCL API (OpenCL 2.1 ) - Platform #1 [Intel(R) Corporation]\n=============================================================\n* Device #1: Intel(R) Gen9 HD Graphics NEO, skipped\n\nOpenCL API (OpenCL 2.1 LINUX) - Platform #2 [Intel(R) Corporation]\n==================================================================\n* Device #2: Intel(R) Core(TM) i5-8350U CPU @ 1.70GHz, 15696/15760 MB (3940 MB allocatable), 8MCU\n\nMinimum password length supported by kernel: 0\nMaximum password length supported by kernel: 256\n\nHashes: 1 digests; 1 unique digests, 1 unique salts\nBitmaps: 16 bits, 65536 entries, 0x0000ffff mask, 262144 bytes, 5/13 rotates\n\nApplicable optimizers:\n* Zero-Byte\n* Early-Skip\n* Not-Salted\n* Not-Iterated\n* Single-Hash\n* Single-Salt\n* Brute-Force\n* Raw-Hash\n\n\u001b[33mATTENTION! Pure (unoptimized) backend kernels selected.\u001b[0m\n\u001b[33mUsing pure kernels enables cracking longer passwords but for the price of drastically reduced performance.\u001b[0m\n\u001b[33mIf you want to switch to optimized backend kernels, append -O to your commandline.\u001b[0m\n\u001b[33mSee the above message to find out about the exact limits.\u001b[0m\n\u001b[33m\u001b[0m\nWatchdog: Hardware monitoring interface not found on your system.\nWatchdog: Temperature abort trigger disabled.\n\nHost memory required for this attack: 66 MB\n\n\u001b[33mThe wordlist or mask that you are using is too small.\u001b[0m\n\u001b[33mThis means that hashcat cannot use the full parallel power of your device(s).\u001b[0m\n\u001b[33mUnless you supply more work, your cracking speed will drop.\u001b[0m\n\u001b[33mFor tips on supplying more work, see: https://hashcat.net/faq/morework\u001b[0m\n\u001b[33m\u001b[0m\n\u001b[33mApproaching final keyspace - workload adjusted.\u001b[0m\n\u001b[33m\u001b[0m\n81dc9bdb52d04dc20036dbd8313ed055:1234\n                                                 \nSession..........: hashcat\nStatus...........: Cracked\nHash.Name........: MD5\nHash.Target......: 81dc9bdb52d04dc20036dbd8313ed055\nTime.Started.....: Wed Jul 22 22:00:27 2020 (0 secs)\nTime.Estimated...: Wed Jul 22 22:00:27 2020 (0 secs)\nGuess.Mask.......: ?d?d?d?d [4]\nGuess.Queue......: 1/1 (100.00%)\nSpeed.#2.........:  9489.4 kH/s (0.14ms) @ Accel:1024 Loops:10 Thr:1 Vec:8\nRecovered........: 1/1 (100.00%) Digests\nProgress.........: 10000/10000 (100.00%)\nRejected.........: 0/10000 (0.00%)\nRestore.Point....: 0/1000 (0.00%)\nRestore.Sub.#2...: Salt:0 Amplifier:0-10 Iteration:0-10\nCandidates.#2....: 1234 -> 6764\n\nStarted: Wed Jul 22 22:00:24 2020\nStopped: Wed Jul 22 22:00:28 2020\n"
    }
   ],
   "source": [
    "hashcat -a 3 -m 0 -D 1 81dc9bdb52d04dc20036dbd8313ed055 ?d?d?d?d"
   ]
  },
  {
   "cell_type": "markdown",
   "metadata": {},
   "source": [
    "## Benchmarks\n",
    "\n",
    "Trying a benchmark to see the speed. Should probably have a better rig :/"
   ]
  },
  {
   "cell_type": "code",
   "execution_count": 17,
   "metadata": {
    "tags": []
   },
   "outputs": [
    {
     "output_type": "stream",
     "name": "stdout",
     "text": "hashcat (v6.0.0) starting in benchmark mode...\n\n\u001b[33mBenchmarking uses hand-optimized kernel code by default.\u001b[0m\n\u001b[33mYou can use it in your cracking session by setting the -O option.\u001b[0m\n\u001b[33mNote: Using optimized kernel code limits the maximum supported password length.\u001b[0m\n\u001b[33mTo disable the optimized kernel code in benchmark mode, use the -w option.\u001b[0m\n\u001b[33m\u001b[0m\n\u001b[31m* Device #1: Unstable OpenCL driver detected!\u001b[0m\n\n\u001b[33mThis OpenCL driver has been marked as likely to fail kernel compilation or to produce false negatives.\u001b[0m\n\u001b[33mYou can use --force to override this, but do not report related errors.\u001b[0m\n\u001b[33m\u001b[0m\nOpenCL API (OpenCL 2.1 ) - Platform #1 [Intel(R) Corporation]\n=============================================================\n* Device #1: Intel(R) Gen9 HD Graphics NEO, skipped\n\nOpenCL API (OpenCL 2.1 LINUX) - Platform #2 [Intel(R) Corporation]\n==================================================================\n* Device #2: Intel(R) Core(TM) i5-8350U CPU @ 1.70GHz, 15696/15760 MB (3940 MB allocatable), 8MCU\n\nBenchmark relevant options:\n===========================\n* --opencl-device-types=1\n* --optimized-kernel-enable\n\nHashmode: 0 - MD5\n\nSpeed.#2.........:   540.3 MH/s (7.81ms) @ Accel:1024 Loops:512 Thr:1 Vec:8\n\nHashmode: 100 - SHA1\n\nSpeed.#2.........:   252.3 MH/s (33.00ms) @ Accel:1024 Loops:1024 Thr:1 Vec:8\n\nHashmode: 1400 - SHA2-256\n\nSpeed.#2.........: 99913.0 kH/s (83.70ms) @ Accel:1024 Loops:1024 Thr:1 Vec:8\n\nHashmode: 1700 - SHA2-512\n\nSpeed.#2.........: 26767.6 kH/s (78.10ms) @ Accel:1024 Loops:256 Thr:1 Vec:4\n\nHashmode: 22000 - WPA-PBKDF2-PMKID+EAPOL (Iterations: 4095)\n\nSpeed.#2.........:    11607 H/s (87.84ms) @ Accel:1024 Loops:512 Thr:1 Vec:8\n\nHashmode: 1000 - NTLM\n\nSpeed.#2.........:   890.4 MH/s (9.21ms) @ Accel:1024 Loops:1024 Thr:1 Vec:8\n\nHashmode: 3000 - LM\n\nSpeed.#2.........: 96088.8 kH/s (86.71ms) @ Accel:1024 Loops:1024 Thr:1 Vec:8\n\nHashmode: 5500 - NetNTLMv1 / NetNTLMv1+ESS\n\nSpeed.#2.........:   581.5 MH/s (14.19ms) @ Accel:1024 Loops:1024 Thr:1 Vec:8\n\nHashmode: 5600 - NetNTLMv2\n\nSpeed.#2.........: 32761.5 kH/s (127.67ms) @ Accel:512 Loops:1024 Thr:1 Vec:8\n\nHashmode: 1500 - descrypt, DES (Unix), Traditional DES\n\nSpeed.#2.........:  3715.6 kH/s (69.83ms) @ Accel:32 Loops:1024 Thr:1 Vec:8\n\nHashmode: 500 - md5crypt, MD5 (Unix), Cisco-IOS $1$ (MD5) (Iterations: 1000)\n\nSpeed.#2.........:    46139 H/s (85.74ms) @ Accel:512 Loops:1000 Thr:1 Vec:8\n\nHashmode: 3200 - bcrypt $2*$, Blowfish (Unix) (Iterations: 32)\n\nSpeed.#2.........:     4024 H/s (61.59ms) @ Accel:32 Loops:32 Thr:1 Vec:8\n\nHashmode: 1800 - sha512crypt $6$, SHA512 (Unix) (Iterations: 5000)\n\nSpeed.#2.........:     2188 H/s (92.98ms) @ Accel:128 Loops:1024 Thr:1 Vec:4\n\nHashmode: 7500 - Kerberos 5, etype 23, AS-REQ Pre-Auth\n\nSpeed.#2.........:  3875.7 kH/s (67.45ms) @ Accel:8 Loops:64 Thr:64 Vec:8\n\nHashmode: 13100 - Kerberos 5, etype 23, TGS-REP\n\nSpeed.#2.........:  3698.8 kH/s (70.64ms) @ Accel:2 Loops:256 Thr:64 Vec:8\n\nHashmode: 15300 - DPAPI masterkey file v1 (Iterations: 23999)\n\nSpeed.#2.........:     1708 H/s (99.42ms) @ Accel:512 Loops:1024 Thr:1 Vec:8\n\nHashmode: 15900 - DPAPI masterkey file v2 (Iterations: 12899)\n\nSpeed.#2.........:     1238 H/s (63.27ms) @ Accel:128 Loops:1024 Thr:1 Vec:4\n\nHashmode: 7100 - macOS v10.8+ (PBKDF2-SHA512) (Iterations: 1023)\n\nSpeed.#2.........:    15450 H/s (52.29ms) @ Accel:512 Loops:255 Thr:1 Vec:4\n\nHashmode: 11600 - 7-Zip (Iterations: 16384)\n\nSpeed.#2.........:     2524 H/s (101.02ms) @ Accel:128 Loops:4096 Thr:1 Vec:8\n\nHashmode: 12500 - RAR3-hp (Iterations: 262144)\n\nSpeed.#2.........:      339 H/s (47.06ms) @ Accel:32 Loops:16384 Thr:1 Vec:8\n\nHashmode: 13000 - RAR5 (Iterations: 32799)\n\nSpeed.#2.........:     1161 H/s (53.25ms) @ Accel:256 Loops:1024 Thr:1 Vec:8\n\nHashmode: 6211 - TrueCrypt RIPEMD160 + XTS 512 bit (Iterations: 1999)\n\nSpeed.#2.........:     8478 H/s (59.51ms) @ Accel:512 Loops:256 Thr:1 Vec:8\n\nHashmode: 13400 - KeePass 1 (AES/Twofish) and KeePass 2 (AES) (Iterations: 24569)\n\nSpeed.#2.........:      942 H/s (90.41ms) @ Accel:256 Loops:1024 Thr:1 Vec:8\n\nHashmode: 6800 - LastPass + LastPass sniffed (Iterations: 499)\n\nSpeed.#2.........:    77373 H/s (50.56ms) @ Accel:512 Loops:499 Thr:1 Vec:8\n\nHashmode: 11300 - Bitcoin/Litecoin wallet.dat (Iterations: 200459)\n\nSpeed.#2.........:      154 H/s (67.83ms) @ Accel:512 Loops:512 Thr:1 Vec:4\n\nStarted: Wed Jul 22 22:02:03 2020\nStopped: Wed Jul 22 22:06:18 2020\n"
    }
   ],
   "source": [
    "hashcat -b -D 1 -O"
   ]
  },
  {
   "cell_type": "markdown",
   "metadata": {},
   "source": [
    "## Some thoughs\n",
    "\n",
    "Hashcat seems to be a solid tool, and after getting it installed (with dependecies) it's pretty easy to get going with cracking. There are however A LOT of modes and options, so mastering this tool will take time. One should also have a dedicated rig for such things. Wondering if cloud could be used for something like this or if it will be to expensive."
   ]
  }
 ]
}
{
 "cells": [
  {
   "cell_type": "markdown",
   "metadata": {},
   "source": [
    "---\n",
    "\n",
    "title: \"Using findmyhash to crack a password\"\n",
    "date: 2020-07-20T21:06:00+02:00\n",
    "tags: [\"findmyhash\", \"password\", \"cracking\"]\n",
    "draft: false\n",
    "\n",
    "---"
   ]
  },
  {
   "cell_type": "markdown",
   "metadata": {},
   "source": [
    "This time around I will test [findmyhash](https://tools.kali.org/password-attacks/findmyhash) to crack a known password hash. Findmyhash is as tool that uses online services to search for the value of a hash. The online services has pre-computed hash values that are searched through, so-called \"raindow tables\"\n",
    "\n",
    "*Note: I've installed findmyhash.py as findmyhash and added a hashbang so I can call it directly.*"
   ]
  },
  {
   "cell_type": "code",
   "execution_count": 3,
   "metadata": {},
   "outputs": [
    {
     "name": "stdout",
     "output_type": "stream",
     "text": [
      "/usr/bin/findmyhash 1.1.2 ( http://code.google.com/p/findmyhash/ )\n",
      "\n",
      "Usage: \n",
      "------\n",
      "\n",
      "  python /usr/bin/findmyhash <algorithm> OPTIONS\n",
      "\n",
      "\n",
      "Accepted algorithms are:\n",
      "------------------------\n",
      "\n",
      "  MD4       - RFC 1320\n",
      "  MD5       - RFC 1321\n",
      "  SHA1      - RFC 3174 (FIPS 180-3)\n",
      "  SHA224    - RFC 3874 (FIPS 180-3)\n",
      "  SHA256    - FIPS 180-3\n",
      "  SHA384    - FIPS 180-3\n",
      "  SHA512    - FIPS 180-3\n",
      "  RMD160    - RFC 2857\n",
      "  GOST      - RFC 5831\n",
      "  WHIRLPOOL - ISO/IEC 10118-3:2004\n",
      "  LM        - Microsoft Windows hash\n",
      "  NTLM      - Microsoft Windows hash\n",
      "  MYSQL     - MySQL 3, 4, 5 hash\n",
      "  CISCO7    - Cisco IOS type 7 encrypted passwords\n",
      "  JUNIPER   - Juniper Networks $9$ encrypted passwords\n",
      "  LDAP_MD5  - MD5 Base64 encoded\n",
      "  LDAP_SHA1 - SHA1 Base64 encoded\n",
      " \n",
      "  NOTE: for LM / NTLM it is recommended to introduce both values with this format:\n",
      "         python /usr/bin/findmyhash LM   -h 9a5760252b7455deaad3b435b51404ee:0d7f1f2bdeac6e574d6e18ca85fb58a7\n",
      "         python /usr/bin/findmyhash NTLM -h 9a5760252b7455deaad3b435b51404ee:0d7f1f2bdeac6e574d6e18ca85fb58a7\n",
      "\n",
      "\n",
      "Valid OPTIONS are:\n",
      "------------------\n",
      "\n",
      "  -h <hash_value>  If you only want to crack one hash, specify its value with this option.\n",
      "\n",
      "  -f <file>        If you have several hashes, you can specify a file with one hash per line.\n",
      "                   NOTE: All of them have to be the same type.\n",
      "                   \n",
      "  -g               If your hash cannot be cracked, search it in Google and show all the results.\n",
      "                   NOTE: This option ONLY works with -h (one hash input) option.\n",
      "\n",
      "\n",
      "Examples:\n",
      "---------\n",
      "\n",
      "  -> Try to crack only one hash.\n",
      "     python /usr/bin/findmyhash MD5 -h 098f6bcd4621d373cade4e832627b4f6\n",
      "     \n",
      "  -> Try to crack a JUNIPER encrypted password escaping special characters.\n",
      "     python /usr/bin/findmyhash JUNIPER -h \"\\$9\\$LbHX-wg4Z\"\n",
      "  \n",
      "  -> If the hash cannot be cracked, it will be searched in Google.\n",
      "     python /usr/bin/findmyhash LDAP_SHA1 -h \"{SHA}cRDtpNCeBiql5KOQsKVyrA0sAiA=\" -g\n",
      "   \n",
      "  -> Try to crack multiple hashes using a file (one hash per line).\n",
      "     python /usr/bin/findmyhash MYSQL -f mysqlhashesfile.txt\n",
      "     \n",
      "     \n",
      "Contact:\n",
      "--------\n",
      "\n",
      "[Web]           http://laxmarcaellugar.blogspot.com/\n",
      "[Mail/Google+]  bloglaxmarcaellugar@gmail.com\n",
      "[twitter]       @laXmarcaellugar\n",
      "\n"
     ]
    },
    {
     "ename": "",
     "evalue": "1",
     "output_type": "error",
     "traceback": []
    }
   ],
   "source": [
    "findmyhash"
   ]
  },
  {
   "cell_type": "markdown",
   "metadata": {},
   "source": [
    "## Let's try it out"
   ]
  },
  {
   "cell_type": "code",
   "execution_count": 4,
   "metadata": {},
   "outputs": [
    {
     "name": "stdout",
     "output_type": "stream",
     "text": [
      "\n",
      "Cracking hash: 81dc9bdb52d04dc20036dbd8313ed055\n",
      "\n",
      "Analyzing with schwett (http://schwett.com)...\n",
      "... hash not found in schwett\n",
      "\n",
      "Analyzing with netmd5crack (http://www.netmd5crack.com)...\n",
      "... hash not found in netmd5crack\n",
      "\n",
      "Analyzing with md5-cracker (http://www.md5-cracker.tk)...\n",
      "... hash not found in md5-cracker\n",
      "\n",
      "Analyzing with benramsey (http://tools.benramsey.com)...\n",
      "... hash not found in benramsey\n",
      "\n",
      "Analyzing with gromweb (http://md5.gromweb.com)...\n",
      "... hash not found in gromweb\n",
      "\n",
      "Analyzing with hashcracking (http://md5.hashcracking.com)...\n",
      "... hash not found in hashcracking\n",
      "\n",
      "Analyzing with hashcracking (http://victorov.su)...\n",
      "... hash not found in hashcracking\n",
      "\n",
      "Analyzing with thekaine (http://md5.thekaine.de)...\n",
      "... hash not found in thekaine\n",
      "\n",
      "Analyzing with tmto (http://www.tmto.org)...\n",
      "... hash not found in tmto\n",
      "\n",
      "Analyzing with rednoize (http://md5.rednoize.com)...\n",
      "... hash not found in rednoize\n",
      "\n",
      "Analyzing with md5-db (http://md5-db.de)...\n",
      "... hash not found in md5-db\n",
      "\n",
      "Analyzing with my-addr (http://md5.my-addr.com)...\n",
      "... hash not found in my-addr\n",
      "\n",
      "Analyzing with md5pass (http://md5pass.info)...\n",
      "... hash not found in md5pass\n",
      "\n",
      "Analyzing with md5decryption (http://md5decryption.com)...\n",
      "... hash not found in md5decryption\n",
      "\n",
      "Analyzing with md5crack (http://md5crack.com)...\n",
      "... hash not found in md5crack\n",
      "\n",
      "Analyzing with md5online (http://md5online.net)...\n",
      "... hash not found in md5online\n",
      "\n",
      "Analyzing with md5-decrypter (http://md5-decrypter.com)...\n",
      "... hash not found in md5-decrypter\n",
      "\n",
      "Analyzing with authsecu (http://www.authsecu.com)...\n",
      "... hash not found in authsecu\n",
      "\n",
      "Analyzing with hashcrack (http://hashcrack.com)...\n",
      "... hash not found in hashcrack\n",
      "\n",
      "Analyzing with c0llision (http://www.c0llision.net)...\n",
      "... hash not found in c0llision\n",
      "\n",
      "Analyzing with cmd5 (http://www.cmd5.org)...\n",
      "... hash not found in cmd5\n",
      "\n",
      "Analyzing with bigtrapeze (http://www.bigtrapeze.com)...\n",
      "... hash not found in bigtrapeze\n",
      "\n",
      "Analyzing with hashchecker (http://www.hashchecker.com)...\n",
      "... hash not found in hashchecker\n",
      "\n",
      "Analyzing with md5hashcracker (http://md5hashcracker.appspot.com)...\n",
      "... hash not found in md5hashcracker\n",
      "\n",
      "Analyzing with passcracking (http://passcracking.com)...\n",
      "... hash not found in passcracking\n",
      "\n",
      "Analyzing with askcheck (http://askcheck.com)...\n",
      "... hash not found in askcheck\n",
      "\n",
      "Analyzing with fox21 (http://cracker.fox21.at)...\n",
      "... hash not found in fox21\n",
      "\n",
      "Analyzing with nicenamecrew (http://crackfoo.nicenamecrew.com)...\n",
      "... hash not found in nicenamecrew\n",
      "\n",
      "Analyzing with joomlaaa (http://joomlaaa.com)...\n",
      "\n",
      "Something was wrong. Please, contact with us to report the bug:\n",
      "\n",
      "bloglaxmarcaellugar@gmail.com\n",
      "\n"
     ]
    }
   ],
   "source": [
    "findmyhash MD5 -h 81dc9bdb52d04dc20036dbd8313ed055"
   ]
  },
  {
   "cell_type": "markdown",
   "metadata": {},
   "source": [
    "The tool is not able to find the hashed value.\n",
    "\n",
    "For the kicks of it, lets try one of the suggested hashes."
   ]
  },
  {
   "cell_type": "code",
   "execution_count": 6,
   "metadata": {},
   "outputs": [
    {
     "name": "stdout",
     "output_type": "stream",
     "text": [
      "\n",
      "Cracking hash: $9$LbHX-wg4Z\n",
      "\n",
      "Analyzing with password-decrypt (http://password-decrypt.com)...\n",
      "\n",
      "***** HASH CRACKED!! *****\n",
      "The original string is: lc\n",
      "\n",
      "\n",
      "The following hashes were cracked:\n",
      "----------------------------------\n",
      "\n",
      "$9$LbHX-wg4Z -> lc\n",
      "\n"
     ]
    }
   ],
   "source": [
    "findmyhash JUNIPER -h \"\\$9\\$LbHX-wg4Z\""
   ]
  },
  {
   "cell_type": "markdown",
   "metadata": {},
   "source": [
    "It seems to be working... strage.\n",
    "\n",
    "## Broken tool\n",
    "\n",
    "A quick google search for the hashed value reveals that it should exist in a couple of the databases. It seems that the tool is broken, either on my system or in general. Being a tool that has not been touched since 2011, I think this one one to keep buried deep in the toolbox. Rather just use good'ol Google :)"
   ]
  }
 ],
 "metadata": {
  "kernelspec": {
   "display_name": "Bash",
   "language": "bash",
   "name": "bash"
  },
  "language_info": {
   "codemirror_mode": "shell",
   "file_extension": ".sh",
   "mimetype": "text/x-sh",
   "name": "bash"
  }
 },
 "nbformat": 4,
 "nbformat_minor": 4
}

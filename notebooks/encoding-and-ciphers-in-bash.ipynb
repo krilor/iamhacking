{
 "metadata": {
  "language_info": {
   "codemirror_mode": {
    "name": "ipython",
    "version": 3
   },
   "file_extension": ".py",
   "mimetype": "text/x-python",
   "name": "python",
   "nbconvert_exporter": "python",
   "pygments_lexer": "ipython3",
   "version": "3.6.9-final"
  },
  "orig_nbformat": 2,
  "kernelspec": {
   "name": "bash",
   "display_name": "Bash"
  }
 },
 "nbformat": 4,
 "nbformat_minor": 2,
 "cells": [
  {
   "cell_type": "markdown",
   "metadata": {},
   "source": [
    "---\n",
    "\n",
    "title: \"Encoding and Ciphers in Bash\"\n",
    "date: 2020-07-26T22:14:00+02:00\n",
    "draft: false\n",
    "\n",
    "---"
   ]
  },
  {
   "cell_type": "markdown",
   "metadata": {},
   "source": [
    "Today I want to explore encoding and ciphers in bash, and how to convert between different kinds. I've choosen bash because I like being able to just test stuff directly in my terminal.\n",
    "\n",
    "To start off, I did a bit of google-foo and found a couple of resources to figure out what my scope would be.\n",
    "\n",
    "I found these, which are ok posts/resources about the topic.\n",
    "\n",
    "* https://medium.com/disruptive-labs/a-quick-primer-on-encoding-decoding-for-security-folks-a021afd98fbe\n",
    "* https://www.dcode.fr/en\n",
    "\n",
    "## Scope\n",
    "\n",
    "### Encodings\n",
    "\n",
    "From the resources listes, I have picked out these encodings that I will work with.\n",
    "\n",
    "* utf-8\n",
    "* base64\n",
    "* base32\n",
    "* hex\n",
    "* URL encoding\n",
    "\n",
    "### Ciphers\n",
    "\n",
    "* Caesar and ROT(13) - substitution\n",
    "* Atbash\n",
    "\n",
    "### Other techniques\n",
    "\n",
    "* Folding/unfolding"
   ]
  },
  {
   "cell_type": "markdown",
   "metadata": {},
   "source": [
    "## Encoding\n",
    "\n",
    "### My standard encoding is utf-8\n",
    "\n",
    "I can check my terminals default encoding using env variables or the `locale` command."
   ]
  },
  {
   "cell_type": "code",
   "execution_count": 5,
   "metadata": {
    "tags": []
   },
   "outputs": [
    {
     "output_type": "stream",
     "name": "stdout",
     "text": "en_US.UTF-8\nUTF-8\n"
    }
   ],
   "source": [
    "# jupyter bash is a bit finnicky, so I need to set the lang explicitly. In my regular terminal, it is allready set.\n",
    "export LANG=en_US.UTF-8\n",
    "\n",
    "echo $LANG\n",
    "locale charmap"
   ]
  },
  {
   "cell_type": "markdown",
   "metadata": {},
   "source": [
    "### Base64\n",
    "\n",
    "Base64 represents binary data in a ASCII string format, with only 64 selected characters. Each character represents 6 bits of the binary data.\n",
    "\n",
    "On Ubuntu (and most linux distros) we can use the `base64` tool to do encoding and decoding.\n"
   ]
  },
  {
   "cell_type": "code",
   "execution_count": 2,
   "metadata": {
    "tags": []
   },
   "outputs": [
    {
     "output_type": "stream",
     "name": "stdout",
     "text": "Usage: base64 [OPTION]... [FILE]\nBase64 encode or decode FILE, or standard input, to standard output.\n\nWith no FILE, or when FILE is -, read standard input.\n\nMandatory arguments to long options are mandatory for short options too.\n  -d, --decode          decode data\n  -i, --ignore-garbage  when decoding, ignore non-alphabet characters\n  -w, --wrap=COLS       wrap encoded lines after COLS character (default 76).\n                          Use 0 to disable line wrapping\n\n      --help     display this help and exit\n      --version  output version information and exit\n\nThe data are encoded as described for the base64 alphabet in RFC 4648.\nWhen decoding, the input may contain newlines in addition to the bytes of\nthe formal base64 alphabet.  Use --ignore-garbage to attempt to recover\nfrom any other non-alphabet bytes in the encoded stream.\n\nGNU coreutils online help: <http://www.gnu.org/software/coreutils/>\nReport base64 translation bugs to <http://translationproject.org/team/>\nFull documentation at: <http://www.gnu.org/software/coreutils/base64>\nor available locally via: info '(coreutils) base64 invocation'\n"
    }
   ],
   "source": [
    "base64 --help"
   ]
  },
  {
   "cell_type": "code",
   "execution_count": 15,
   "metadata": {
    "tags": []
   },
   "outputs": [
    {
     "output_type": "stream",
     "name": "stdout",
     "text": "Testing base64\nRAW: Hello\nENCODED: SGVsbG8K\nDECODED: Hello\n"
    }
   ],
   "source": [
    "echo \"Testing base64\"\n",
    "\n",
    "raw=\"Hello\"\n",
    "echo \"RAW: $raw\"\n",
    "\n",
    "encoded=$( echo $raw | base64 )\n",
    "echo \"ENCODED: $encoded\"\n",
    "\n",
    "decoded=$( echo $encoded | base64 -d )\n",
    "echo \"DECODED: $decoded\"\n"
   ]
  },
  {
   "cell_type": "markdown",
   "metadata": {},
   "source": [
    "### Base32\n",
    "\n",
    "Base32 is the same as base64, but only has a 32 character alphabet. Each character represents 5 bits.\n",
    "\n",
    "Ubuntu has a `base32` tool built in."
   ]
  },
  {
   "cell_type": "code",
   "execution_count": 16,
   "metadata": {
    "tags": []
   },
   "outputs": [
    {
     "output_type": "stream",
     "name": "stdout",
     "text": "Usage: base32 [OPTION]... [FILE]\nBase32 encode or decode FILE, or standard input, to standard output.\n\nWith no FILE, or when FILE is -, read standard input.\n\nMandatory arguments to long options are mandatory for short options too.\n  -d, --decode          decode data\n  -i, --ignore-garbage  when decoding, ignore non-alphabet characters\n  -w, --wrap=COLS       wrap encoded lines after COLS character (default 76).\n                          Use 0 to disable line wrapping\n\n      --help     display this help and exit\n      --version  output version information and exit\n\nThe data are encoded as described for the base32 alphabet in RFC 4648.\nWhen decoding, the input may contain newlines in addition to the bytes of\nthe formal base32 alphabet.  Use --ignore-garbage to attempt to recover\nfrom any other non-alphabet bytes in the encoded stream.\n\nGNU coreutils online help: <http://www.gnu.org/software/coreutils/>\nReport base32 translation bugs to <http://translationproject.org/team/>\nFull documentation at: <http://www.gnu.org/software/coreutils/base32>\nor available locally via: info '(coreutils) base32 invocation'\n"
    }
   ],
   "source": [
    "base32 --help"
   ]
  },
  {
   "cell_type": "code",
   "execution_count": 17,
   "metadata": {
    "tags": []
   },
   "outputs": [
    {
     "output_type": "stream",
     "name": "stdout",
     "text": "Testing base32\nRAW: Hello\nENCODED: JBSWY3DPBI======\nDECODED: Hello\n"
    }
   ],
   "source": [
    "echo \"Testing base32\"\n",
    "\n",
    "raw=\"Hello\"\n",
    "echo \"RAW: $raw\"\n",
    "\n",
    "encoded=$( echo $raw | base32 )\n",
    "echo \"ENCODED: $encoded\"\n",
    "\n",
    "decoded=$( echo $encoded | base32 -d )\n",
    "echo \"DECODED: $decoded\""
   ]
  },
  {
   "cell_type": "markdown",
   "metadata": {},
   "source": [
    "### HEX\n",
    "\n",
    "Hex is similar to both base64 and 32, but uses only the 16 characters *0123456789abcdef*. Each character represents 4 bits, so that 2 characters make up a byte.\n",
    "\n",
    "[hexdump](http://manpages.ubuntu.com/manpages/trusty/man1/hexdump.1.html) can be used to convert to hex, but as far as I know, not the other way around. hexdump is pretty nice if you want to specify the output format (spaces and such).\n",
    "\n",
    "[xxd](http://manpages.ubuntu.com/manpages/trusty/man1/xxd.1.html) can be used to convert both ways."
   ]
  },
  {
   "cell_type": "code",
   "execution_count": 14,
   "metadata": {
    "tags": []
   },
   "outputs": [
    {
     "output_type": "stream",
     "name": "stdout",
     "text": "hexdump\n68 65 6c 6c 6f 0a \n\nxxd\n68 65 6c 6c 6f 0a \n\nxxd decode/reverse\nhello\n"
    }
   ],
   "source": [
    "echo hexdump\n",
    "echo hello | hexdump -v -e '/1 \"%02x \"'; echo\n",
    "\n",
    "echo; echo xxd\n",
    "# note, the extra sed is just o place spaces between the values\n",
    "echo hello | xxd -p | sed 's/../& /g'\n",
    "\n",
    "echo; echo \"xxd decode/reverse\"\n",
    "echo hello | xxd -p | sed 's/../& /g' | xxd -p -r\n"
   ]
  },
  {
   "cell_type": "code",
   "execution_count": null,
   "metadata": {},
   "outputs": [],
   "source": [
    "### Fold and unfold\n",
    "\n",
    "Folding is used to create text files of an arbritraty line length.\n",
    "\n",
    "Unfold is done with using translate (tr) to remove characters.\n",
    "\n"
   ]
  },
  {
   "cell_type": "code",
   "execution_count": 15,
   "metadata": {
    "tags": []
   },
   "outputs": [
    {
     "output_type": "stream",
     "name": "stdout",
     "text": "Usage: fold [OPTION]... [FILE]...\nWrap input lines in each FILE, writing to standard output.\n\nWith no FILE, or when FILE is -, read standard input.\n\nMandatory arguments to long options are mandatory for short options too.\n  -b, --bytes         count bytes rather than columns\n  -s, --spaces        break at spaces\n  -w, --width=WIDTH   use WIDTH columns instead of 80\n      --help     display this help and exit\n      --version  output version information and exit\n\nGNU coreutils online help: <http://www.gnu.org/software/coreutils/>\nReport fold translation bugs to <http://translationproject.org/team/>\nFull documentation at: <http://www.gnu.org/software/coreutils/fold>\nor available locally via: info '(coreutils) fold invocation'\n"
    }
   ],
   "source": [
    "fold --help"
   ]
  },
  {
   "cell_type": "code",
   "execution_count": 26,
   "metadata": {
    "tags": []
   },
   "outputs": [
    {
     "output_type": "stream",
     "name": "stdout",
     "text": "-folded\nsome\nlong\ntext\n\n-unfolded\nsomelongtext"
    }
   ],
   "source": [
    "echo -folded\n",
    "echo \"somelongtext\" | fold -w 4\n",
    "\n",
    "echo; echo -unfolded\n",
    "echo \"somelongtext\" | fold -w 4 | tr -d '\\n'"
   ]
  },
  {
   "cell_type": "markdown",
   "metadata": {},
   "source": [
    "### URL encoding\n",
    "\n",
    "Ubuntu has a nice tool for doing url encoding - [urlencode](http://manpages.ubuntu.com/manpages/bionic/man1/urlencode.1.html).\n",
    "\n",
    "It does not read from stdin, so we need to use xargs to do piping."
   ]
  },
  {
   "cell_type": "code",
   "execution_count": 29,
   "metadata": {
    "tags": []
   },
   "outputs": [
    {
     "output_type": "stream",
     "name": "stdout",
     "text": "urlencode [-m|-d] string-to-encode-or-decode\n\nencoded\nhello%20world\n\ndecoded\nhello world\n"
    }
   ],
   "source": [
    "urlencode\n",
    "\n",
    "echo; echo \"encoded\"\n",
    "echo \"hello world\" | xargs urlencode\n",
    "\n",
    "echo; echo \"decoded\"\n",
    "echo \"hello world\" | xargs urlencode | xargs urlencode -d"
   ]
  },
  {
   "cell_type": "code",
   "execution_count": null,
   "metadata": {},
   "outputs": [],
   "source": [
    "## Ciphers\n",
    "\n",
    "I will have a look at a few common (CTF-wise) ciphers.\n",
    "\n",
    "### Caesar\n",
    "\n",
    "[Caesar Ciper](https://en.wikipedia.org/wiki/Caesar_cipher) aka [ROT](https://en.wikipedia.org/wiki/ROT13).\n",
    "\n",
    "To do rotation ciphers, use any of these resources.\n",
    "\n",
    "* https://www.chmag.in/articles/momsguide/decoding-rot-using-the-echo-and-tr-commands-in-your-linux-terminal/\n",
    "* https://askubuntu.com/questions/1097761/changing-individual-letter-position-with-bash\n",
    "* https://www.reddit.com/r/commandline/comments/1orqht/bash_script_that_performs_a_modified_caesar_cipher/\n",
    "\n",
    "This little tidbit does ROT13 with can be decoded with the same method.\n",
    "I've opted for the tr approach here.\n"
   ]
  },
  {
   "cell_type": "code",
   "execution_count": 35,
   "metadata": {
    "tags": []
   },
   "outputs": [
    {
     "output_type": "stream",
     "name": "stdout",
     "text": "hell0\nuryyB\nhellO\n"
    }
   ],
   "source": [
    "echo \"hell0\"\n",
    "echo \"hellO\" | tr ‘n-za-mN-ZA-M’ ‘a-zA-Z’\n",
    "echo \"hellO\" | tr ‘n-za-mN-ZA-M’ ‘a-zA-Z’ | tr ‘n-za-mN-ZA-M’ ‘a-zA-Z’"
   ]
  },
  {
   "cell_type": "code",
   "execution_count": null,
   "metadata": {},
   "outputs": [],
   "source": [
    "### Atbash\n",
    "\n",
    "[Atbash](https://en.wikipedia.org/wiki/Atbash) simply reverses the alphabeth and uses that as a cipher.\n",
    "This can be done in bash quite nicely with tr.\n"
   ]
  },
  {
   "cell_type": "code",
   "execution_count": 47,
   "metadata": {
    "tags": []
   },
   "outputs": [
    {
     "output_type": "stream",
     "name": "stdout",
     "text": "a abcdefghijklmnopqrstuvwxyz\nA ABCDEFGHIJKLMNOPQRSTUVWXYZ\nr zyxwvutsrqponmlkjihgfedcba\nR ZYXWVUTSRQPONMLKJIHGFEDCBA\nsVoOl\nhElLo\n"
    }
   ],
   "source": [
    "# setting up some variables\n",
    "a=$( echo {a..z} | tr -d ' ' )\n",
    "echo \"a $a\"\n",
    "A=${a^^}\n",
    "echo \"A $A\"\n",
    "r=$( echo $a | rev )\n",
    "echo \"r $r\"\n",
    "R=${r^^}\n",
    "echo \"R $R\"\n",
    "\n",
    "echo hElLo | tr $a $r | tr $A $R\n",
    "echo sVoOl | tr $a $r | tr $A $R"
   ]
  },
  {
   "cell_type": "code",
   "execution_count": null,
   "metadata": {},
   "outputs": [],
   "source": [
    "### Vigenére cipher\n",
    "\n",
    "[Vigenére cipher](https://en.wikipedia.org/wiki/Vigen%C3%A8re_cipher)"
   ]
  },
  {
   "cell_type": "markdown",
   "metadata": {},
   "source": [
    "## Closing remarks\n",
    "\n",
    "Understanding and working with encodings and (simple) ciphers in bash: check.\n",
    "\n",
    "Even tho this was just prodding at the surface, I feel that I've learned a bit about encoding/ciphers and also about some tools that that can be used to work with such matters directly in my terminal."
   ]
  }
 ]
}